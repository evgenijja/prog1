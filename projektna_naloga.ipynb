{
 "cells": [
  {
   "cell_type": "markdown",
   "metadata": {},
   "source": [
    "# Projektna naloga: ANALIZA SVETOVNE ŽENSKE TENIŠKE LESTVICE"
   ]
  },
  {
   "cell_type": "markdown",
   "metadata": {},
   "source": [
    "V projektni nalogi bom obravnavala podatke, ki sem jih pridobila z ženske svetovne teniške lestvice WTA.\n",
    "\n",
    "Zajela sem osnovne podatke o igralkah (rank, starost, država, datum rojstva, starost, leto začetka kariere) in podatke o odigranih turnirjih, razmerjih zmag in porazov ter zaslužku."
   ]
  },
  {
   "cell_type": "code",
   "execution_count": 3,
   "metadata": {},
   "outputs": [],
   "source": [
    "import pandas as pd\n",
    "import numpy as np\n",
    "import matplotlib.pyplot as plt\n",
    "%matplotlib inline\n",
    "import math\n",
    "from pandas import DataFrame as df"
   ]
  },
  {
   "cell_type": "markdown",
   "metadata": {},
   "source": [
    "### Osnovno"
   ]
  },
  {
   "cell_type": "markdown",
   "metadata": {},
   "source": [
    "Oglejmo si tabelo z vsemi podatki. Iz nje lahko takoj dobimo nekaj povprečnih vrednosti in morda zanimivih ugotovitev."
   ]
  },
  {
   "cell_type": "code",
   "execution_count": 12,
   "metadata": {},
   "outputs": [
    {
     "data": {
      "text/html": [
       "<div>\n",
       "<style scoped>\n",
       "    .dataframe tbody tr th:only-of-type {\n",
       "        vertical-align: middle;\n",
       "    }\n",
       "\n",
       "    .dataframe tbody tr th {\n",
       "        vertical-align: top;\n",
       "    }\n",
       "\n",
       "    .dataframe thead th {\n",
       "        text-align: right;\n",
       "    }\n",
       "</style>\n",
       "<table border=\"1\" class=\"dataframe\">\n",
       "  <thead>\n",
       "    <tr style=\"text-align: right;\">\n",
       "      <th></th>\n",
       "      <th>id</th>\n",
       "      <th>ime</th>\n",
       "      <th>drzava</th>\n",
       "      <th>datum_rojstva</th>\n",
       "      <th>starost</th>\n",
       "      <th>roka</th>\n",
       "      <th>tocke</th>\n",
       "      <th>odigrani_turnirji</th>\n",
       "      <th>zacetek</th>\n",
       "      <th>letni_zasluzek</th>\n",
       "      <th>karierni_zasluzek</th>\n",
       "      <th>letno_razmerje</th>\n",
       "      <th>karierno_razmerje</th>\n",
       "    </tr>\n",
       "    <tr>\n",
       "      <th>rank</th>\n",
       "      <th></th>\n",
       "      <th></th>\n",
       "      <th></th>\n",
       "      <th></th>\n",
       "      <th></th>\n",
       "      <th></th>\n",
       "      <th></th>\n",
       "      <th></th>\n",
       "      <th></th>\n",
       "      <th></th>\n",
       "      <th></th>\n",
       "      <th></th>\n",
       "      <th></th>\n",
       "    </tr>\n",
       "  </thead>\n",
       "  <tbody>\n",
       "    <tr>\n",
       "      <th>1</th>\n",
       "      <td>314320</td>\n",
       "      <td>Halep Simona</td>\n",
       "      <td>Romania</td>\n",
       "      <td>27 Sep 1991</td>\n",
       "      <td>27</td>\n",
       "      <td>desna</td>\n",
       "      <td>6921</td>\n",
       "      <td>17</td>\n",
       "      <td>2006</td>\n",
       "      <td>7409564.0</td>\n",
       "      <td>28145579</td>\n",
       "      <td>46/11</td>\n",
       "      <td>450/197</td>\n",
       "    </tr>\n",
       "    <tr>\n",
       "      <th>2</th>\n",
       "      <td>311470</td>\n",
       "      <td>Kerber Angelique</td>\n",
       "      <td>Germany</td>\n",
       "      <td>18 Jan 1988</td>\n",
       "      <td>30</td>\n",
       "      <td>leva</td>\n",
       "      <td>5875</td>\n",
       "      <td>19</td>\n",
       "      <td>2003</td>\n",
       "      <td>5686362.0</td>\n",
       "      <td>27156841</td>\n",
       "      <td>46/19</td>\n",
       "      <td>595/311</td>\n",
       "    </tr>\n",
       "    <tr>\n",
       "      <th>3</th>\n",
       "      <td>313402</td>\n",
       "      <td>Wozniacki Caroline</td>\n",
       "      <td>Denmark</td>\n",
       "      <td>11 Jul 1990</td>\n",
       "      <td>28</td>\n",
       "      <td>desna</td>\n",
       "      <td>5586</td>\n",
       "      <td>19</td>\n",
       "      <td>2005</td>\n",
       "      <td>6657719.0</td>\n",
       "      <td>33492413</td>\n",
       "      <td>41/17</td>\n",
       "      <td>610/247</td>\n",
       "    </tr>\n",
       "    <tr>\n",
       "      <th>4</th>\n",
       "      <td>316738</td>\n",
       "      <td>Svitolina Elina</td>\n",
       "      <td>Ukraine</td>\n",
       "      <td>12 Sep 1994</td>\n",
       "      <td>24</td>\n",
       "      <td>desna</td>\n",
       "      <td>5350</td>\n",
       "      <td>19</td>\n",
       "      <td>2010</td>\n",
       "      <td>5737247.0</td>\n",
       "      <td>13108625</td>\n",
       "      <td>44/15</td>\n",
       "      <td>329/169</td>\n",
       "    </tr>\n",
       "    <tr>\n",
       "      <th>5</th>\n",
       "      <td>319998</td>\n",
       "      <td>Osaka Naomi</td>\n",
       "      <td>Japan</td>\n",
       "      <td>16 Oct 1997</td>\n",
       "      <td>21</td>\n",
       "      <td>desna</td>\n",
       "      <td>5115</td>\n",
       "      <td>20</td>\n",
       "      <td>-</td>\n",
       "      <td>6394289.0</td>\n",
       "      <td>7629197</td>\n",
       "      <td>42/20</td>\n",
       "      <td>177/119</td>\n",
       "    </tr>\n",
       "    <tr>\n",
       "      <th>...</th>\n",
       "      <td>...</td>\n",
       "      <td>...</td>\n",
       "      <td>...</td>\n",
       "      <td>...</td>\n",
       "      <td>...</td>\n",
       "      <td>...</td>\n",
       "      <td>...</td>\n",
       "      <td>...</td>\n",
       "      <td>...</td>\n",
       "      <td>...</td>\n",
       "      <td>...</td>\n",
       "      <td>...</td>\n",
       "      <td>...</td>\n",
       "    </tr>\n",
       "    <tr>\n",
       "      <th>1224</th>\n",
       "      <td>327404</td>\n",
       "      <td>Saito Yuna</td>\n",
       "      <td>Japan</td>\n",
       "      <td>15 Jun 2002</td>\n",
       "      <td>15</td>\n",
       "      <td>NaN</td>\n",
       "      <td>3</td>\n",
       "      <td>3</td>\n",
       "      <td>-</td>\n",
       "      <td>1664.0</td>\n",
       "      <td>1834</td>\n",
       "      <td>2/7</td>\n",
       "      <td>3/9</td>\n",
       "    </tr>\n",
       "    <tr>\n",
       "      <th>1224</th>\n",
       "      <td>327454</td>\n",
       "      <td>Arseneault Ariana</td>\n",
       "      <td>Canada</td>\n",
       "      <td>29 Jul 2001</td>\n",
       "      <td>16</td>\n",
       "      <td>NaN</td>\n",
       "      <td>3</td>\n",
       "      <td>3</td>\n",
       "      <td>-</td>\n",
       "      <td>950.0</td>\n",
       "      <td>950</td>\n",
       "      <td>0/5</td>\n",
       "      <td>0/5</td>\n",
       "    </tr>\n",
       "    <tr>\n",
       "      <th>1224</th>\n",
       "      <td>328585</td>\n",
       "      <td>Lim Lynelle</td>\n",
       "      <td>Singapore</td>\n",
       "      <td>25 Feb 2000</td>\n",
       "      <td>17</td>\n",
       "      <td>NaN</td>\n",
       "      <td>3</td>\n",
       "      <td>3</td>\n",
       "      <td>-</td>\n",
       "      <td>1452.0</td>\n",
       "      <td>1452</td>\n",
       "      <td>3/8</td>\n",
       "      <td>3/8</td>\n",
       "    </tr>\n",
       "    <tr>\n",
       "      <th>1224</th>\n",
       "      <td>328506</td>\n",
       "      <td>Seah Charmaine</td>\n",
       "      <td>Singapore</td>\n",
       "      <td>06 Jun 2001</td>\n",
       "      <td>18</td>\n",
       "      <td>NaN</td>\n",
       "      <td>3</td>\n",
       "      <td>3</td>\n",
       "      <td>-</td>\n",
       "      <td>1912.0</td>\n",
       "      <td>1912</td>\n",
       "      <td>6/5</td>\n",
       "      <td>6/5</td>\n",
       "    </tr>\n",
       "    <tr>\n",
       "      <th>1224</th>\n",
       "      <td>328234</td>\n",
       "      <td>Arkadianou Anna</td>\n",
       "      <td>Greece</td>\n",
       "      <td>03 May 2003</td>\n",
       "      <td>17</td>\n",
       "      <td>NaN</td>\n",
       "      <td>3</td>\n",
       "      <td>3</td>\n",
       "      <td>-</td>\n",
       "      <td>1023.0</td>\n",
       "      <td>1023</td>\n",
       "      <td>4/6</td>\n",
       "      <td>4/6</td>\n",
       "    </tr>\n",
       "  </tbody>\n",
       "</table>\n",
       "<p>1284 rows × 13 columns</p>\n",
       "</div>"
      ],
      "text/plain": [
       "          id                 ime     drzava datum_rojstva  starost   roka  \\\n",
       "rank                                                                        \n",
       "1     314320        Halep Simona    Romania   27 Sep 1991       27  desna   \n",
       "2     311470    Kerber Angelique    Germany   18 Jan 1988       30   leva   \n",
       "3     313402  Wozniacki Caroline    Denmark   11 Jul 1990       28  desna   \n",
       "4     316738     Svitolina Elina    Ukraine   12 Sep 1994       24  desna   \n",
       "5     319998         Osaka Naomi      Japan   16 Oct 1997       21  desna   \n",
       "...      ...                 ...        ...           ...      ...    ...   \n",
       "1224  327404          Saito Yuna      Japan   15 Jun 2002       15    NaN   \n",
       "1224  327454   Arseneault Ariana     Canada   29 Jul 2001       16    NaN   \n",
       "1224  328585         Lim Lynelle  Singapore   25 Feb 2000       17    NaN   \n",
       "1224  328506      Seah Charmaine  Singapore   06 Jun 2001       18    NaN   \n",
       "1224  328234     Arkadianou Anna     Greece   03 May 2003       17    NaN   \n",
       "\n",
       "      tocke  odigrani_turnirji zacetek  letni_zasluzek  karierni_zasluzek  \\\n",
       "rank                                                                        \n",
       "1      6921                 17    2006       7409564.0           28145579   \n",
       "2      5875                 19    2003       5686362.0           27156841   \n",
       "3      5586                 19    2005       6657719.0           33492413   \n",
       "4      5350                 19    2010       5737247.0           13108625   \n",
       "5      5115                 20       -       6394289.0            7629197   \n",
       "...     ...                ...     ...             ...                ...   \n",
       "1224      3                  3       -          1664.0               1834   \n",
       "1224      3                  3       -           950.0                950   \n",
       "1224      3                  3       -          1452.0               1452   \n",
       "1224      3                  3       -          1912.0               1912   \n",
       "1224      3                  3       -          1023.0               1023   \n",
       "\n",
       "     letno_razmerje karierno_razmerje  \n",
       "rank                                   \n",
       "1             46/11           450/197  \n",
       "2             46/19           595/311  \n",
       "3             41/17           610/247  \n",
       "4             44/15           329/169  \n",
       "5             42/20           177/119  \n",
       "...             ...               ...  \n",
       "1224            2/7               3/9  \n",
       "1224            0/5               0/5  \n",
       "1224            3/8               3/8  \n",
       "1224            6/5               6/5  \n",
       "1224            4/6               4/6  \n",
       "\n",
       "[1284 rows x 13 columns]"
      ]
     },
     "execution_count": 12,
     "metadata": {},
     "output_type": "execute_result"
    }
   ],
   "source": [
    "igralke = pd.read_csv('seznam_igralk.csv', index_col='rank')\n",
    "pd.options.display.max_rows = 10\n",
    "igralke"
   ]
  },
  {
   "cell_type": "markdown",
   "metadata": {},
   "source": [
    "Poglejmo si iz katerih držav prihaja največ igralk."
   ]
  },
  {
   "cell_type": "code",
   "execution_count": 18,
   "metadata": {},
   "outputs": [
    {
     "data": {
      "text/plain": [
       "'Na lestvici je trenutno 11 slovenskih igralk.'"
      ]
     },
     "execution_count": 18,
     "metadata": {},
     "output_type": "execute_result"
    },
    {
     "data": {
      "image/png": "[encoded data removed]",
      "text/plain": [
       "<Figure size 1440x360 with 1 Axes>"
      ]
     },
     "metadata": {
      "needs_background": "light"
     },
     "output_type": "display_data"
    }
   ],
   "source": [
    "igralke['drzava'].value_counts().head(20).plot(kind = 'bar', figsize=(20, 5), title='20 najbolj zastopanih držav')\n",
    "st = igralke.groupby('drzava').size()['Slovenia']\n",
    "'Na lestvici je trenutno {} slovenskih igralk.'.format(st)"
   ]
  },
  {
   "cell_type": "code",
   "execution_count": 38,
   "metadata": {},
   "outputs": [
    {
     "data": {
      "text/plain": [
       "'Povprečna starost igralk je 22.5 let.'"
      ]
     },
     "execution_count": 38,
     "metadata": {},
     "output_type": "execute_result"
    }
   ],
   "source": [
    "povp = round(igralke['starost'].mean(), 1)\n",
    "'Povprečna starost igralk je {} let.'.format(povp)"
   ]
  },
  {
   "cell_type": "code",
   "execution_count": 19,
   "metadata": {},
   "outputs": [
    {
     "data": {
      "text/plain": [
       "Text(0, 0.5, 'število točk')"
      ]
     },
     "execution_count": 19,
     "metadata": {},
     "output_type": "execute_result"
    },
    {
     "data": {
      "image/png": "[encoded data removed]",
      "text/plain": [
       "<Figure size 432x288 with 1 Axes>"
      ]
     },
     "metadata": {
      "needs_background": "light"
     },
     "output_type": "display_data"
    }
   ],
   "source": [
    "#poglejmo si kako je odvisno število toč od ranka\n",
    "plt = igralke['tocke'].plot()\n",
    "plt.set_xlabel(\"rank\")\n",
    "plt.set_ylabel(\"število točk\")"
   ]
  },
  {
   "cell_type": "markdown",
   "metadata": {},
   "source": [
    "Z grafa vidimo, da število točk od zadaj proti vrhu sprva raste počasi nato pa vedno bolj strmo. To pomeni da sprva že majhna sprememba števila točk lahko pomeni veliko spremembo pri ranku, ko pa se prebijemo med prvih 200, rabimo za višje mesto na lestvici vedno več točk."
   ]
  },
  {
   "cell_type": "markdown",
   "metadata": {},
   "source": [
    "Poglejmo si koliko turnirjev so odigrale igralke v letu 2018."
   ]
  },
  {
   "cell_type": "code",
   "execution_count": 30,
   "metadata": {},
   "outputs": [
    {
     "data": {
      "text/plain": [
       "<matplotlib.axes._subplots.AxesSubplot at 0x5c0ee96cc0>"
      ]
     },
     "execution_count": 30,
     "metadata": {},
     "output_type": "execute_result"
    },
    {
     "data": {
      "image/png": "[encoded data removed]",
      "text/plain": [
       "<Figure size 1080x288 with 1 Axes>"
      ]
     },
     "metadata": {
      "needs_background": "light"
     },
     "output_type": "display_data"
    }
   ],
   "source": [
    "igralke['odigrani_turnirji'].value_counts().sort_index(ascending=True).plot(kind = 'bar', figsize=(15, 4), title='Odigrani turnirji')"
   ]
  },
  {
   "cell_type": "markdown",
   "metadata": {},
   "source": [
    "Največ je bilo igralk, ki so odigrale 3 - 5 turnirjev v tem letu. Zanimivo je, da med 10 in nekje 28 odigranimi turnirji v letu ni velikih odstopanj. Opazimo tudi, da je nekaj igralk, ki so odigrale 30 ali več turnirjev v letu, kar je več kot 2.5 turnirja na mesec!"
   ]
  },
  {
   "cell_type": "code",
   "execution_count": 40,
   "metadata": {},
   "outputs": [
    {
     "data": {
      "text/plain": [
       "'Povprečno število odigranih turnirjev v 2018 je bilo 12.9. Povprečni zaslužek v letu 2018 je znašal 135192.12 dolarjev, v povprečju pa so igralke v celotni karieri zaslužile 846422.38 dolarjev.'"
      ]
     },
     "execution_count": 40,
     "metadata": {},
     "output_type": "execute_result"
    }
   ],
   "source": [
    "povp_st_turnirjev = round(igralke['odigrani_turnirji'].mean(), 1)\n",
    "\n",
    "#poglejmo si še povprečni zaslužek\n",
    "povp_letni_zasluzek = round(igralke['letni_zasluzek'].mean(), 2)\n",
    "povp_karierni_zasluzek = round(igralke['karierni_zasluzek'].mean(), 2)\n",
    "r'Povprečno število odigranih turnirjev v 2018 je bilo {}. Povprečni zaslužek v letu 2018 je znašal {} dolarjev, v povprečju pa so igralke v celotni karieri zaslužile {} dolarjev.'.format(povp_st_turnirjev, povp_letni_zasluzek, povp_karierni_zasluzek)"
   ]
  },
  {
   "cell_type": "markdown",
   "metadata": {},
   "source": [
    "Ena od hipotez oz. vprašanj, ki sem si jih zastavila, je bilo, ali večje število odigranih turnirjev pomeni tudi višje mesto na lestvici. To je namreč precej pogost pojav v mlajših kategorijah, kjer si igralke lahko hitro naberejo točke."
   ]
  },
  {
   "cell_type": "code",
   "execution_count": 41,
   "metadata": {},
   "outputs": [
    {
     "data": {
      "text/plain": [
       "<matplotlib.axes._subplots.AxesSubplot at 0x10255673c8>"
      ]
     },
     "execution_count": 41,
     "metadata": {},
     "output_type": "execute_result"
    },
    {
     "data": {
      "image/png": "[encoded data removed]",
      "text/plain": [
       "<Figure size 1440x216 with 1 Axes>"
      ]
     },
     "metadata": {
      "needs_background": "light"
     },
     "output_type": "display_data"
    }
   ],
   "source": [
    "prvih_1000 = igralke.head(1000)\n",
    "igralke_rank = prvih_1000.groupby('rank')\n",
    "igralke_rank[['odigrani_turnirji']].mean().plot(figsize=(20, 3))"
   ]
  },
  {
   "cell_type": "markdown",
   "metadata": {},
   "source": [
    "Iz grafa je razvidno, da višje uvrščene igralke odigrajo več turnirjev, vendar se ta razlika pozna le, če gledamo celotno lestvico. Poglejmo, ali lahko ta trend opazimo tudi pri prvih 100 igralkah. "
   ]
  },
  {
   "cell_type": "code",
   "execution_count": 31,
   "metadata": {},
   "outputs": [
    {
     "data": {
      "text/plain": [
       "<matplotlib.axes._subplots.AxesSubplot at 0x5c0f10b7f0>"
      ]
     },
     "execution_count": 31,
     "metadata": {},
     "output_type": "execute_result"
    },
    {
     "data": {
      "image/png": "[encoded data removed]",
      "text/plain": [
       "<Figure size 1440x216 with 1 Axes>"
      ]
     },
     "metadata": {
      "needs_background": "light"
     },
     "output_type": "display_data"
    }
   ],
   "source": [
    "prvih_100 = igralke.head(100)\n",
    "igralke_rank = prvih_100.groupby('rank')\n",
    "igralke_rank['odigrani_turnirji'].mean().plot(figsize=(20, 3))"
   ]
  },
  {
   "cell_type": "markdown",
   "metadata": {},
   "source": [
    "Vidimo, da ta trend ni opazen in da vrednosti zelo nihajo.\n",
    "Posebej si poglejmo še graf, kjer obravnavamo starost v odvisnosti od števila odigranih turnirjev."
   ]
  },
  {
   "cell_type": "code",
   "execution_count": 32,
   "metadata": {},
   "outputs": [
    {
     "data": {
      "text/plain": [
       "<matplotlib.axes._subplots.AxesSubplot at 0x5c0b24a358>"
      ]
     },
     "execution_count": 32,
     "metadata": {},
     "output_type": "execute_result"
    },
    {
     "data": {
      "image/png": "[encoded data removed]",
      "text/plain": [
       "<Figure size 432x288 with 1 Axes>"
      ]
     },
     "metadata": {
      "needs_background": "light"
     },
     "output_type": "display_data"
    }
   ],
   "source": [
    "igralke[['starost', 'odigrani_turnirji']].plot.scatter('starost', 'odigrani_turnirji')"
   ]
  },
  {
   "cell_type": "markdown",
   "metadata": {},
   "source": [
    "Vidimo, da na grafu ne opazimo nobenega trenda razen tega, da poleg Serene Williams ni veliko žensk starih več kot 35 let, ki bi aktivno tekmovale. "
   ]
  },
  {
   "cell_type": "markdown",
   "metadata": {},
   "source": [
    "Poglejmo si še tiste igralke, ki so v letu odigrale 30 ali več turnirjev. Ali se nahajajo višje na lestvici?"
   ]
  },
  {
   "cell_type": "code",
   "execution_count": 34,
   "metadata": {},
   "outputs": [
    {
     "data": {
      "text/html": [
       "<div>\n",
       "<style scoped>\n",
       "    .dataframe tbody tr th:only-of-type {\n",
       "        vertical-align: middle;\n",
       "    }\n",
       "\n",
       "    .dataframe tbody tr th {\n",
       "        vertical-align: top;\n",
       "    }\n",
       "\n",
       "    .dataframe thead th {\n",
       "        text-align: right;\n",
       "    }\n",
       "</style>\n",
       "<table border=\"1\" class=\"dataframe\">\n",
       "  <thead>\n",
       "    <tr style=\"text-align: right;\">\n",
       "      <th></th>\n",
       "      <th>id</th>\n",
       "      <th>ime</th>\n",
       "      <th>drzava</th>\n",
       "      <th>datum_rojstva</th>\n",
       "      <th>starost</th>\n",
       "      <th>roka</th>\n",
       "      <th>tocke</th>\n",
       "      <th>odigrani_turnirji</th>\n",
       "      <th>zacetek</th>\n",
       "      <th>letni_zasluzek</th>\n",
       "      <th>karierni_zasluzek</th>\n",
       "      <th>letno_razmerje</th>\n",
       "      <th>karierno_razmerje</th>\n",
       "    </tr>\n",
       "    <tr>\n",
       "      <th>rank</th>\n",
       "      <th></th>\n",
       "      <th></th>\n",
       "      <th></th>\n",
       "      <th></th>\n",
       "      <th></th>\n",
       "      <th></th>\n",
       "      <th></th>\n",
       "      <th></th>\n",
       "      <th></th>\n",
       "      <th></th>\n",
       "      <th></th>\n",
       "      <th></th>\n",
       "      <th></th>\n",
       "    </tr>\n",
       "  </thead>\n",
       "  <tbody>\n",
       "    <tr>\n",
       "      <th>69</th>\n",
       "      <td>315294</td>\n",
       "      <td>Jakupovic Dalila</td>\n",
       "      <td>Slovenia</td>\n",
       "      <td>24 Mar 1991</td>\n",
       "      <td>27</td>\n",
       "      <td>desna</td>\n",
       "      <td>829</td>\n",
       "      <td>31</td>\n",
       "      <td>-</td>\n",
       "      <td>338332.0</td>\n",
       "      <td>563998</td>\n",
       "      <td>41/27</td>\n",
       "      <td>312/274</td>\n",
       "    </tr>\n",
       "    <tr>\n",
       "      <th>88</th>\n",
       "      <td>312584</td>\n",
       "      <td>Rodina Evgeniya</td>\n",
       "      <td>Russia</td>\n",
       "      <td>04 Feb 1989</td>\n",
       "      <td>29</td>\n",
       "      <td>desna</td>\n",
       "      <td>699</td>\n",
       "      <td>35</td>\n",
       "      <td>2004</td>\n",
       "      <td>408204.0</td>\n",
       "      <td>2057930</td>\n",
       "      <td>35/34</td>\n",
       "      <td>437/319</td>\n",
       "    </tr>\n",
       "    <tr>\n",
       "      <th>109</th>\n",
       "      <td>313349</td>\n",
       "      <td>Rus Arantxa</td>\n",
       "      <td>The Netherlands</td>\n",
       "      <td>13 Dec 1990</td>\n",
       "      <td>27</td>\n",
       "      <td>leva</td>\n",
       "      <td>559</td>\n",
       "      <td>31</td>\n",
       "      <td>-</td>\n",
       "      <td>222333.0</td>\n",
       "      <td>1290631</td>\n",
       "      <td>45/33</td>\n",
       "      <td>421/277</td>\n",
       "    </tr>\n",
       "    <tr>\n",
       "      <th>139</th>\n",
       "      <td>314237</td>\n",
       "      <td>Doi Misaki</td>\n",
       "      <td>Japan</td>\n",
       "      <td>29 Apr 1991</td>\n",
       "      <td>27</td>\n",
       "      <td>leva</td>\n",
       "      <td>434</td>\n",
       "      <td>30</td>\n",
       "      <td>-</td>\n",
       "      <td>99735.0</td>\n",
       "      <td>2326507</td>\n",
       "      <td>39/28</td>\n",
       "      <td>310/271</td>\n",
       "    </tr>\n",
       "    <tr>\n",
       "      <th>149</th>\n",
       "      <td>315265</td>\n",
       "      <td>Perrin Conny</td>\n",
       "      <td>Switzerland</td>\n",
       "      <td>25 Dec 1990</td>\n",
       "      <td>27</td>\n",
       "      <td>desna</td>\n",
       "      <td>407</td>\n",
       "      <td>30</td>\n",
       "      <td>-</td>\n",
       "      <td>98375.0</td>\n",
       "      <td>326524</td>\n",
       "      <td>39/27</td>\n",
       "      <td>405/286</td>\n",
       "    </tr>\n",
       "    <tr>\n",
       "      <th>...</th>\n",
       "      <td>...</td>\n",
       "      <td>...</td>\n",
       "      <td>...</td>\n",
       "      <td>...</td>\n",
       "      <td>...</td>\n",
       "      <td>...</td>\n",
       "      <td>...</td>\n",
       "      <td>...</td>\n",
       "      <td>...</td>\n",
       "      <td>...</td>\n",
       "      <td>...</td>\n",
       "      <td>...</td>\n",
       "      <td>...</td>\n",
       "    </tr>\n",
       "    <tr>\n",
       "      <th>307</th>\n",
       "      <td>319962</td>\n",
       "      <td>Bains Naiktha</td>\n",
       "      <td>Australia</td>\n",
       "      <td>17 Dec 1997</td>\n",
       "      <td>20</td>\n",
       "      <td>NaN</td>\n",
       "      <td>153</td>\n",
       "      <td>33</td>\n",
       "      <td>-</td>\n",
       "      <td>43325.0</td>\n",
       "      <td>124065</td>\n",
       "      <td>28/33</td>\n",
       "      <td>108/120</td>\n",
       "    </tr>\n",
       "    <tr>\n",
       "      <th>308</th>\n",
       "      <td>318840</td>\n",
       "      <td>Arcangioli Manon</td>\n",
       "      <td>France</td>\n",
       "      <td>28 Aug 1994</td>\n",
       "      <td>24</td>\n",
       "      <td>desna</td>\n",
       "      <td>153</td>\n",
       "      <td>31</td>\n",
       "      <td>-</td>\n",
       "      <td>33967.0</td>\n",
       "      <td>195741</td>\n",
       "      <td>31/30</td>\n",
       "      <td>265/207</td>\n",
       "    </tr>\n",
       "    <tr>\n",
       "      <th>329</th>\n",
       "      <td>316050</td>\n",
       "      <td>Scholl Chiara</td>\n",
       "      <td>United States</td>\n",
       "      <td>05 Jul 1992</td>\n",
       "      <td>26</td>\n",
       "      <td>NaN</td>\n",
       "      <td>136</td>\n",
       "      <td>31</td>\n",
       "      <td>-</td>\n",
       "      <td>22207.0</td>\n",
       "      <td>199765</td>\n",
       "      <td>35/36</td>\n",
       "      <td>312/256</td>\n",
       "    </tr>\n",
       "    <tr>\n",
       "      <th>333</th>\n",
       "      <td>315597</td>\n",
       "      <td>Honcova Michaela</td>\n",
       "      <td>Slovak Republic</td>\n",
       "      <td>22 Dec 1992</td>\n",
       "      <td>25</td>\n",
       "      <td>desna</td>\n",
       "      <td>132</td>\n",
       "      <td>34</td>\n",
       "      <td>-</td>\n",
       "      <td>27084.0</td>\n",
       "      <td>169296</td>\n",
       "      <td>20/33</td>\n",
       "      <td>286/224</td>\n",
       "    </tr>\n",
       "    <tr>\n",
       "      <th>338</th>\n",
       "      <td>316481</td>\n",
       "      <td>Marcinkevica Diana</td>\n",
       "      <td>Latvia</td>\n",
       "      <td>03 Aug 1992</td>\n",
       "      <td>26</td>\n",
       "      <td>NaN</td>\n",
       "      <td>130</td>\n",
       "      <td>31</td>\n",
       "      <td>-</td>\n",
       "      <td>24287.0</td>\n",
       "      <td>205047</td>\n",
       "      <td>31/31</td>\n",
       "      <td>356/274</td>\n",
       "    </tr>\n",
       "  </tbody>\n",
       "</table>\n",
       "<p>25 rows × 13 columns</p>\n",
       "</div>"
      ],
      "text/plain": [
       "          id                 ime           drzava datum_rojstva  starost  \\\n",
       "rank                                                                       \n",
       "69    315294    Jakupovic Dalila         Slovenia   24 Mar 1991       27   \n",
       "88    312584     Rodina Evgeniya           Russia   04 Feb 1989       29   \n",
       "109   313349         Rus Arantxa  The Netherlands   13 Dec 1990       27   \n",
       "139   314237          Doi Misaki            Japan   29 Apr 1991       27   \n",
       "149   315265        Perrin Conny      Switzerland   25 Dec 1990       27   \n",
       "...      ...                 ...              ...           ...      ...   \n",
       "307   319962       Bains Naiktha        Australia   17 Dec 1997       20   \n",
       "308   318840    Arcangioli Manon           France   28 Aug 1994       24   \n",
       "329   316050       Scholl Chiara    United States   05 Jul 1992       26   \n",
       "333   315597    Honcova Michaela  Slovak Republic   22 Dec 1992       25   \n",
       "338   316481  Marcinkevica Diana           Latvia   03 Aug 1992       26   \n",
       "\n",
       "       roka  tocke  odigrani_turnirji zacetek  letni_zasluzek  \\\n",
       "rank                                                            \n",
       "69    desna    829                 31       -        338332.0   \n",
       "88    desna    699                 35    2004        408204.0   \n",
       "109    leva    559                 31       -        222333.0   \n",
       "139    leva    434                 30       -         99735.0   \n",
       "149   desna    407                 30       -         98375.0   \n",
       "...     ...    ...                ...     ...             ...   \n",
       "307     NaN    153                 33       -         43325.0   \n",
       "308   desna    153                 31       -         33967.0   \n",
       "329     NaN    136                 31       -         22207.0   \n",
       "333   desna    132                 34       -         27084.0   \n",
       "338     NaN    130                 31       -         24287.0   \n",
       "\n",
       "      karierni_zasluzek letno_razmerje karierno_razmerje  \n",
       "rank                                                      \n",
       "69               563998          41/27           312/274  \n",
       "88              2057930          35/34           437/319  \n",
       "109             1290631          45/33           421/277  \n",
       "139             2326507          39/28           310/271  \n",
       "149              326524          39/27           405/286  \n",
       "...                 ...            ...               ...  \n",
       "307              124065          28/33           108/120  \n",
       "308              195741          31/30           265/207  \n",
       "329              199765          35/36           312/256  \n",
       "333              169296          20/33           286/224  \n",
       "338              205047          31/31           356/274  \n",
       "\n",
       "[25 rows x 13 columns]"
      ]
     },
     "execution_count": 34,
     "metadata": {},
     "output_type": "execute_result"
    }
   ],
   "source": [
    "zelo_aktvine_igralke = igralke[igralke.odigrani_turnirji >= 30]\n",
    "zelo_aktvine_igralke"
   ]
  },
  {
   "cell_type": "code",
   "execution_count": 35,
   "metadata": {},
   "outputs": [
    {
     "data": {
      "text/plain": [
       "<matplotlib.axes._subplots.AxesSubplot at 0x5c0ef930f0>"
      ]
     },
     "execution_count": 35,
     "metadata": {},
     "output_type": "execute_result"
    },
    {
     "data": {
      "image/png": "[encoded data removed]",
      "text/plain": [
       "<Figure size 576x360 with 1 Axes>"
      ]
     },
     "metadata": {
      "needs_background": "light"
     },
     "output_type": "display_data"
    }
   ],
   "source": [
    "zelo_aktvine_igralke['odigrani_turnirji'].plot(figsize=(8, 5))"
   ]
  },
  {
   "cell_type": "markdown",
   "metadata": {},
   "source": [
    "Vidimo, da so vse igralke med prvimi 350 igralkami, kar je precej visoka uvrstitev. Vidimo pa, da jih je največ nekje med 250 in 350 mestom. Lahko bi sklepali, da se z velikim številom odigranih turnirjev lahko prebijemo naprej, za zelo visoko uvrstitev pa bo potrebno še kaj več. Pridobljene točke je treba namreč iz sezone v sezono ohranjati.\n"
   ]
  },
  {
   "cell_type": "markdown",
   "metadata": {},
   "source": [
    "### Datum in leto rojstva"
   ]
  },
  {
   "cell_type": "markdown",
   "metadata": {},
   "source": [
    "#### Leto rojstva"
   ]
  },
  {
   "cell_type": "markdown",
   "metadata": {},
   "source": [
    "Katerega leta je rojenih največ igralk?"
   ]
  },
  {
   "cell_type": "code",
   "execution_count": 37,
   "metadata": {},
   "outputs": [],
   "source": [
    "seznam_let = []\n",
    "for i in range(1283):\n",
    "    leto = igralke.iloc[i]['datum_rojstva'].split()[2]\n",
    "    seznam_let.append(leto)\n",
    "seznam_let.sort()\n",
    "slovar = {}\n",
    "for element in seznam_let:\n",
    "    if element in slovar:\n",
    "        slovar[element] += 1\n",
    "    else:\n",
    "        slovar[element] = 1"
   ]
  },
  {
   "cell_type": "code",
   "execution_count": 39,
   "metadata": {},
   "outputs": [
    {
     "data": {
      "text/plain": [
       "<matplotlib.axes._subplots.AxesSubplot at 0x5c0daa3c88>"
      ]
     },
     "execution_count": 39,
     "metadata": {},
     "output_type": "execute_result"
    },
    {
     "data": {
      "image/png": "[encoded data removed]",
      "text/plain": [
       "<Figure size 720x216 with 1 Axes>"
      ]
     },
     "metadata": {
      "needs_background": "light"
     },
     "output_type": "display_data"
    }
   ],
   "source": [
    "tabela = df.from_dict(slovar, 'index')\n",
    "tabela.columns = ['število ponovitev']\n",
    "tabela\n",
    "tabela.plot(kind = 'bar', figsize=(10, 3))"
   ]
  },
  {
   "cell_type": "markdown",
   "metadata": {},
   "source": [
    "Največ igralk je rojenih med leti 1994 in 2000. Znotraj teh letnic spada tudi povprečna starost, ki je okoli 22 let."
   ]
  },
  {
   "cell_type": "markdown",
   "metadata": {},
   "source": [
    "#### Povezava med mesecem rojstva in mestom na lestvici"
   ]
  },
  {
   "cell_type": "markdown",
   "metadata": {},
   "source": [
    "V mlajših kategorijah je hitrost razvoja tekmovalcev in tekmovalk tako velika, da so igralci, rojeni v prih treh mesecih, zelo pogosto višje na lestvici. Zanima nas, ali se to pojavlja tudi pri starejših."
   ]
  },
  {
   "cell_type": "code",
   "execution_count": 42,
   "metadata": {},
   "outputs": [],
   "source": [
    "seznam_mesecev = []\n",
    "for i in range(1283):\n",
    "    mesec = mesec = igralke.iloc[i]['datum_rojstva'].split()[1]\n",
    "    seznam_mesecev.append(mesec)\n",
    "leto = {'Jan' : 0, 'Feb' : 0, 'Mar' : 0, 'Apr' : 0, 'May' : 0, 'Jun' : 0, 'Jul': 0, 'Aug' : 0, 'Sep' : 0, 'Oct' : 0, 'Nov' : 0, 'Dec' : 0}\n",
    "for mesec in leto:\n",
    "    leto[mesec] = seznam_mesecev.count(mesec)"
   ]
  },
  {
   "cell_type": "code",
   "execution_count": 46,
   "metadata": {},
   "outputs": [
    {
     "data": {
      "text/plain": [
       "<matplotlib.axes._subplots.AxesSubplot at 0x5c0dda52e8>"
      ]
     },
     "execution_count": 46,
     "metadata": {},
     "output_type": "execute_result"
    },
    {
     "data": {
      "image/png": "[encoded data removed]",
      "text/plain": [
       "<Figure size 432x288 with 1 Axes>"
      ]
     },
     "metadata": {
      "needs_background": "light"
     },
     "output_type": "display_data"
    }
   ],
   "source": [
    "tabela_vse = pd.DataFrame.from_dict(leto, 'index')\n",
    "tabela_vse.columns = ['število ponovitev']\n",
    "tabela_vse.plot(kind = 'bar')"
   ]
  },
  {
   "cell_type": "markdown",
   "metadata": {},
   "source": [
    "Zdi se, kakor da je graf nagnjen nekoliko bolj levo, vendar so vrednosti razporejene precej enakomerno in so visoke tudi v srednjih mesecih. Ali bomo opazili razliko, če bomo gledali le prvih 200 igralk?"
   ]
  },
  {
   "cell_type": "code",
   "execution_count": 107,
   "metadata": {},
   "outputs": [],
   "source": [
    "seznam_mesecev = []\n",
    "for i in range(200):\n",
    "    mesec = igralke.iloc[i]['datum_rojstva'].split()[1]\n",
    "    seznam_mesecev.append(mesec)\n",
    "leto = {'Jan' : 0, 'Feb' : 0, 'Mar' : 0, 'Apr' : 0, 'May' : 0, 'Jun' : 0, 'Jul': 0, 'Aug' : 0, 'Sep' : 0, 'Oct' : 0, 'Nov' : 0, 'Dec' : 0}\n",
    "for mesec in leto:\n",
    "    leto[mesec] = seznam_mesecev.count(mesec)"
   ]
  },
  {
   "cell_type": "code",
   "execution_count": 108,
   "metadata": {},
   "outputs": [
    {
     "data": {
      "text/plain": [
       "<matplotlib.axes._subplots.AxesSubplot at 0x3d6b87dd8>"
      ]
     },
     "execution_count": 108,
     "metadata": {},
     "output_type": "execute_result"
    },
    {
     "data": {
      "image/png": "[encoded data removed]",
      "text/plain": [
       "<Figure size 432x288 with 1 Axes>"
      ]
     },
     "metadata": {
      "needs_background": "light"
     },
     "output_type": "display_data"
    }
   ],
   "source": [
    "tabela200 = pd.DataFrame.from_dict(leto, 'index')\n",
    "tabela200.columns = ['število ponovitev']\n",
    "tabela200.plot(kind = 'bar')"
   ]
  },
  {
   "cell_type": "markdown",
   "metadata": {},
   "source": [
    "Iz dobljenih grafov lahko rečemo, da istega trenda kot v mlajših kategorijah ne moremo opaziti. Če obstaja, zagotovo ni odločilen. "
   ]
  },
  {
   "cell_type": "markdown",
   "metadata": {},
   "source": [
    "### Dolžine profesionalnih karier"
   ]
  },
  {
   "cell_type": "markdown",
   "metadata": {},
   "source": [
    "Zanima nas, kolikšna je povprečna dolžina karier igralk na lestvici. Zavedamo se, da nam bo rezultat za povprečno dolžino karier povedal, koliko časa v povprečju igralke, ki jih videvamo na turnirjih, že nastopajo na teh turnirjih. Ker nimamo podatkov o letu zaključka kariere (osredotočamo se namreč le na aktivne igralke), iz tega ne bomo mogli sklepati ničesar o celotnih dolžinah karier teniških igralk.\n",
    "\n",
    "Takoj opazimo, da podatki o začetkih profesionalnih karier pri veliko igralkah manjkajo, zato bomo ugotovitve jemali nekoliko z zadržkom. Izračunali bomo povprečno starost, ko se igralke odločijo za profesionalno kariero in povprečno dolžino karier."
   ]
  },
  {
   "cell_type": "code",
   "execution_count": 192,
   "metadata": {},
   "outputs": [
    {
     "data": {
      "text/plain": [
       "'Povprečna starost, pri kateri igralke začnejo profesionalno kariero je 16.6 let, povprečna dolžina karier pa 12.21 let'"
      ]
     },
     "execution_count": 192,
     "metadata": {},
     "output_type": "execute_result"
    }
   ],
   "source": [
    "slovar, slovar_dolzina = {}, {} \n",
    "#prvi slovar vsebuje starosti posameznih igralk, ko so začele profesionalno pot, drugi slovar pa dolzino njihovih karier\n",
    "sestevek1, sestevek2 = 0, 0 \n",
    "#prvi seštevek bo za povprečno starost ob začetku, drugi za povprečno dolžino kariere\n",
    "for i in range(1283):\n",
    "    zacetek_kariere = igralke.iloc[i]['zacetek'].split()[0]\n",
    "    rank_igralke = i + 1\n",
    "    if zacetek_kariere != '-':\n",
    "        leto = igralke.iloc[i]['datum_rojstva'].split()[2]\n",
    "        \n",
    "        starost_ob_zacetku_kariere = int(zacetek_kariere) - int(leto)\n",
    "        slovar[rank_igralke] = starost_ob_zacetku_kariere\n",
    "        sestevek1 += starost_ob_zacetku_kariere\n",
    "        \n",
    "        dolzina_kariere = 2019 - int(zacetek_kariere)\n",
    "        sestevek2 += dolzina_kariere\n",
    "        slovar_dolzina[rank_igralke] = dolzina_kariere\n",
    "\n",
    "povprecna_starost_ob_zacetku_kariere = sestevek1 / len(slovar)\n",
    "povprecna_dolzina = sestevek2 / len(slovar_dolzina)\n",
    "\n",
    "'Povprečna starost, pri kateri igralke začnejo profesionalno kariero je {} let, povprečna dolžina karier pa {} let'.format(round(povprecna_starost_ob_zacetku_kariere, 2), round(povprecna_dolzina, 2))"
   ]
  },
  {
   "cell_type": "markdown",
   "metadata": {},
   "source": [
    "Rezultat za povprečno starost je pričakovan, saj se igralke za profesionalno pot res odločijo nekje pri 17 letih, ko zaključujejo tekmovanje v nižjih kategorijah. \n",
    "\n",
    "Lahko se vprašamo, ali se trend v zadnjih letih kaj spreminja. Ali se igralke za profesionalno pot odločajo bolj zgodaj, glede na to, da se izboljšuje nivo igranja predvsem v nižjih kategorijah? "
   ]
  },
  {
   "cell_type": "code",
   "execution_count": 193,
   "metadata": {},
   "outputs": [
    {
     "data": {
      "text/plain": [
       "<matplotlib.axes._subplots.AxesSubplot at 0x3da751f98>"
      ]
     },
     "execution_count": 193,
     "metadata": {},
     "output_type": "execute_result"
    },
    {
     "data": {
      "image/png": "[encoded data removed]",
      "text/plain": [
       "<Figure size 432x288 with 1 Axes>"
      ]
     },
     "metadata": {
      "needs_background": "light"
     },
     "output_type": "display_data"
    }
   ],
   "source": [
    "nov_seznam = []\n",
    "for igralka in slovar:\n",
    "    zacetek_kariere = int(str(igralke[igralka - 1:igralka]['zacetek']).split()[2])\n",
    "    nov_seznam.append([zacetek_kariere, slovar[igralka], slovar_dolzina[igralka]]) \n",
    "tabela = pd.DataFrame(nov_seznam, columns=['leto začetka kariere', \"starost ob začetku kariere\", \"dolžina kariere\"])\n",
    "tabela.plot.scatter('leto začetka kariere', 'starost ob začetku kariere')"
   ]
  },
  {
   "cell_type": "markdown",
   "metadata": {},
   "source": [
    "Iz grafa lahko vidimo, da je od leta 2000 naprej v bistvu čedalje več starejših igralk, ki se odločajo za profesionalno pot. Razlog za to bi bil lahko napredek v športu in sicer predvsem poudarek na pravilni fizični in psihični pripravi, kar preprečuje poškodbe in omogoča, da igralci tekmujejo več let kot včasih. Opazimo pa tudi vedno manjše število mlajših igralk. To lahko pripišemo nepopolni bazi podatkov - ravno profili igralk, ki so začele kariero v zadnjih nekaj letih, so po navadi nepopolno izpolnjeni. Graf bi bil lahko precej drugačen, če bi imeli na voljo podatek o začetku kariere za vse igralke lestvice.\n",
    "\n",
    "Še enkrat je treba poudariti, da smo pri delu obravnavali le 141 od 1284 igralk, zato moramo vse rezultate in zaključke jemati z zadržkom."
   ]
  },
  {
   "cell_type": "markdown",
   "metadata": {},
   "source": [
    "### Levičarke vs desničarke"
   ]
  },
  {
   "cell_type": "markdown",
   "metadata": {},
   "source": [
    "Pri nekaterih športih lahko leva roka pomeni prednost. To je v tenisu kar izrazito, saj lahko levičarji s svojo taktiko zmedejo marsikaterega igralca - če ne drugega zato, ker ni vajen igre proti njim. Kot zanimivost lahko omenim, da Rafael Nadal, eden izmed najboljših teniških igralcev, igra z levo roko, kljub temu, da je desničar. Njegovemu stricu, izkušenemu trenerju, se je to namreč zdela velika prednost.\n",
    "\n",
    "Zanima nas, kolikšen delež igralk je levičark in ali se ta delež spreminja, ko gledamo prvih 10, prvih 100, prvih 500 ... igralk."
   ]
  },
  {
   "cell_type": "code",
   "execution_count": 53,
   "metadata": {},
   "outputs": [
    {
     "data": {
      "text/html": [
       "<div>\n",
       "<style scoped>\n",
       "    .dataframe tbody tr th:only-of-type {\n",
       "        vertical-align: middle;\n",
       "    }\n",
       "\n",
       "    .dataframe tbody tr th {\n",
       "        vertical-align: top;\n",
       "    }\n",
       "\n",
       "    .dataframe thead th {\n",
       "        text-align: right;\n",
       "    }\n",
       "</style>\n",
       "<table border=\"1\" class=\"dataframe\">\n",
       "  <thead>\n",
       "    <tr style=\"text-align: right;\">\n",
       "      <th></th>\n",
       "      <th>0</th>\n",
       "      <th>1</th>\n",
       "    </tr>\n",
       "  </thead>\n",
       "  <tbody>\n",
       "    <tr>\n",
       "      <th>seštevek vseh</th>\n",
       "      <td>0.912052</td>\n",
       "      <td>0.087948</td>\n",
       "    </tr>\n",
       "    <tr>\n",
       "      <th>prvih 10</th>\n",
       "      <td>0.800000</td>\n",
       "      <td>0.200000</td>\n",
       "    </tr>\n",
       "    <tr>\n",
       "      <th>prvih 100</th>\n",
       "      <td>0.928571</td>\n",
       "      <td>0.071429</td>\n",
       "    </tr>\n",
       "    <tr>\n",
       "      <th>prvih 500</th>\n",
       "      <td>0.915385</td>\n",
       "      <td>0.084615</td>\n",
       "    </tr>\n",
       "    <tr>\n",
       "      <th>prvih 1000</th>\n",
       "      <td>0.913043</td>\n",
       "      <td>0.086957</td>\n",
       "    </tr>\n",
       "  </tbody>\n",
       "</table>\n",
       "</div>"
      ],
      "text/plain": [
       "                      0         1\n",
       "seštevek vseh  0.912052  0.087948\n",
       "prvih 10       0.800000  0.200000\n",
       "prvih 100      0.928571  0.071429\n",
       "prvih 500      0.915385  0.084615\n",
       "prvih 1000     0.913043  0.086957"
      ]
     },
     "execution_count": 53,
     "metadata": {},
     "output_type": "execute_result"
    }
   ],
   "source": [
    "seštevek_vseh = igralke['roka'].value_counts('leva').tolist()\n",
    "prvih_10 = igralke.head(10)['roka'].value_counts('leva').tolist()\n",
    "prvih_100 = igralke.head(100)['roka'].value_counts('leva').tolist()\n",
    "prvih_500 = igralke.head(500)['roka'].value_counts('leva').tolist()\n",
    "prvih_1000 = igralke.head(1000)['roka'].value_counts('leva').tolist()\n",
    "\n",
    "\n",
    "skupen_slovar = {'seštevek vseh' : seštevek_vseh, 'prvih 10' :prvih_10, 'prvih 100' : prvih_100, 'prvih 500' : prvih_500, 'prvih 1000' : prvih_1000}\n",
    "tabela = pd.DataFrame.from_dict(skupen_slovar, 'index')\n",
    "tabela\n",
    "#tabela.plot(kind = 'scatter')#.set_aspect('equal', adjustable='box')\n",
    "\n",
    "#plt.plot(seznam)\n",
    "#plt.xlim(0, 1)\n",
    "#plt.ylim(0, 1)\n",
    "#plt.gca().set_aspect('equal', adjustable='box')"
   ]
  },
  {
   "cell_type": "code",
   "execution_count": null,
   "metadata": {},
   "outputs": [],
   "source": []
  },
  {
   "cell_type": "markdown",
   "metadata": {},
   "source": [
    "### Še nekaj povezav med podatki"
   ]
  },
  {
   "cell_type": "markdown",
   "metadata": {},
   "source": [
    "#### Povezava med začetkom oziroma dolžino kariere in zaslužkom"
   ]
  },
  {
   "cell_type": "code",
   "execution_count": 194,
   "metadata": {},
   "outputs": [
    {
     "data": {
      "text/plain": [
       "<matplotlib.axes._subplots.AxesSubplot at 0x3da62fcc0>"
      ]
     },
     "execution_count": 194,
     "metadata": {},
     "output_type": "execute_result"
    },
    {
     "data": {
      "image/png": "[encoded data removed]",
      "text/plain": [
       "<Figure size 432x288 with 1 Axes>"
      ]
     },
     "metadata": {
      "needs_background": "light"
     },
     "output_type": "display_data"
    }
   ],
   "source": [
    "začetek_vs_zaslužek = []\n",
    "for i in range(1284):\n",
    "    začetek_kariere  = igralke.iloc[i]['zacetek'].split()[0]\n",
    "    if začetek_kariere != '-':\n",
    "        začetek_kariere  = int(začetek_kariere)\n",
    "        zaslužek_v_karieri = int(igralke.iloc[i]['karierni_zasluzek'])\n",
    "        začetek_vs_zaslužek.append([začetek_kariere, zaslužek_v_karieri])\n",
    "tabela = pd.DataFrame(začetek_vs_zaslužek, columns=['začetek kariere', 'karierni zaslužek'])\n",
    "tabela.plot.scatter('začetek kariere', 'karierni zaslužek', title='Odvisnost celotnega zaslužka v karieri od dolžine kariere')"
   ]
  },
  {
   "cell_type": "markdown",
   "metadata": {},
   "source": [
    "Zanimalo nas je, ali daljša kariera pomeni več zaslužka. Graf se nekoliko giblje v tej smeri, vendar zaradi pomankljivosti podatkov ne moremo veliko sklepati.\n",
    "\n",
    "Lahko poiščemo igralko, ki predstavlja piko v levem zgornjem kotu, ki izrazito izstopa."
   ]
  },
  {
   "cell_type": "code",
   "execution_count": 144,
   "metadata": {},
   "outputs": [
    {
     "data": {
      "text/plain": [
       "rank\n",
       "16      88233301\n",
       "40      40931048\n",
       "29      38342119\n",
       "3       33492413\n",
       "51      29278989\n",
       "          ...   \n",
       "879         1112\n",
       "1224        1023\n",
       "1224         950\n",
       "1224         912\n",
       "1224         912\n",
       "Name: karierni_zasluzek, Length: 1284, dtype: int64"
      ]
     },
     "execution_count": 144,
     "metadata": {},
     "output_type": "execute_result"
    }
   ],
   "source": [
    "igralke['karierni_zasluzek'].sort_values(ascending=False)"
   ]
  },
  {
   "cell_type": "code",
   "execution_count": 145,
   "metadata": {},
   "outputs": [
    {
     "data": {
      "text/plain": [
       "id                            230234\n",
       "ime                  Williams Serena\n",
       "drzava                 United States\n",
       "datum_rojstva            26 Sep 1981\n",
       "starost                           37\n",
       "                          ...       \n",
       "zacetek                         1995\n",
       "letni_zasluzek           3.77017e+06\n",
       "karierni_zasluzek           88233301\n",
       "letno_razmerje                  18/6\n",
       "karierno_razmerje            801/136\n",
       "Name: 16, Length: 13, dtype: object"
      ]
     },
     "execution_count": 145,
     "metadata": {},
     "output_type": "execute_result"
    }
   ],
   "source": [
    "igralke.loc[16]"
   ]
  },
  {
   "cell_type": "markdown",
   "metadata": {},
   "source": [
    "Mislim, da rezultat ni presenetljiv."
   ]
  },
  {
   "cell_type": "markdown",
   "metadata": {},
   "source": [
    "#### Razmerje zmag in porazov v odvisnosti od zaslužka"
   ]
  },
  {
   "cell_type": "markdown",
   "metadata": {},
   "source": [
    "Poglejmo si, ali večji odstotek zmag gotovo pomeni višji zaslužek. Predvidevamo, da bo odgovor ne, saj nekaj zmag na manjših turnirjih včasih ne prinese niti začetne vsote, na kakih večjih."
   ]
  },
  {
   "cell_type": "code",
   "execution_count": 164,
   "metadata": {},
   "outputs": [],
   "source": [
    "seznam_letni, seznam_karierni = [], []\n",
    "for i in range(1282):\n",
    "    seznam_letni.append(igralke.iloc[i]['letno_razmerje'])\n",
    "    seznam_karierni.append(igralke.iloc[i]['karierno_razmerje'])\n",
    "    \n",
    "def zračunaj_deleže(seznam):\n",
    "    nov_seznam = []\n",
    "    for element in seznam:\n",
    "        element = element.split('/')\n",
    "        if element[0] != '' and element[1] != '':\n",
    "        #print(element, int(element[0]), int(element[1]))\n",
    "            element = int(element[0]) / ((int(element[0]) + int(element[1])))\n",
    "            nov_seznam.append(element)\n",
    "    return nov_seznam\n",
    "#print(seznam_letni)"
   ]
  },
  {
   "cell_type": "code",
   "execution_count": 165,
   "metadata": {},
   "outputs": [],
   "source": [
    "letno = pd.DataFrame(zračunaj_deleže(seznam_letni), columns=['letni delež zmag'])\n",
    "karierno = pd.DataFrame(zračunaj_deleže(seznam_karierni), columns=['karierni delež zmag'])"
   ]
  },
  {
   "cell_type": "code",
   "execution_count": 171,
   "metadata": {},
   "outputs": [
    {
     "data": {
      "text/html": [
       "<div>\n",
       "<style scoped>\n",
       "    .dataframe tbody tr th:only-of-type {\n",
       "        vertical-align: middle;\n",
       "    }\n",
       "\n",
       "    .dataframe tbody tr th {\n",
       "        vertical-align: top;\n",
       "    }\n",
       "\n",
       "    .dataframe thead th {\n",
       "        text-align: right;\n",
       "    }\n",
       "</style>\n",
       "<table border=\"1\" class=\"dataframe\">\n",
       "  <thead>\n",
       "    <tr style=\"text-align: right;\">\n",
       "      <th></th>\n",
       "      <th>letno</th>\n",
       "      <th>karierno</th>\n",
       "    </tr>\n",
       "  </thead>\n",
       "  <tbody>\n",
       "    <tr>\n",
       "      <th>0</th>\n",
       "      <td>0.807018</td>\n",
       "      <td>0.695518</td>\n",
       "    </tr>\n",
       "    <tr>\n",
       "      <th>1</th>\n",
       "      <td>0.707692</td>\n",
       "      <td>0.656733</td>\n",
       "    </tr>\n",
       "    <tr>\n",
       "      <th>2</th>\n",
       "      <td>0.706897</td>\n",
       "      <td>0.711785</td>\n",
       "    </tr>\n",
       "    <tr>\n",
       "      <th>3</th>\n",
       "      <td>0.745763</td>\n",
       "      <td>0.660643</td>\n",
       "    </tr>\n",
       "    <tr>\n",
       "      <th>4</th>\n",
       "      <td>0.677419</td>\n",
       "      <td>0.597973</td>\n",
       "    </tr>\n",
       "    <tr>\n",
       "      <th>...</th>\n",
       "      <td>...</td>\n",
       "      <td>...</td>\n",
       "    </tr>\n",
       "    <tr>\n",
       "      <th>1277</th>\n",
       "      <td>0.222222</td>\n",
       "      <td>0.000000</td>\n",
       "    </tr>\n",
       "    <tr>\n",
       "      <th>1278</th>\n",
       "      <td>0.000000</td>\n",
       "      <td>0.000000</td>\n",
       "    </tr>\n",
       "    <tr>\n",
       "      <th>1279</th>\n",
       "      <td>0.272727</td>\n",
       "      <td>0.250000</td>\n",
       "    </tr>\n",
       "    <tr>\n",
       "      <th>1280</th>\n",
       "      <td>NaN</td>\n",
       "      <td>0.000000</td>\n",
       "    </tr>\n",
       "    <tr>\n",
       "      <th>1281</th>\n",
       "      <td>NaN</td>\n",
       "      <td>0.272727</td>\n",
       "    </tr>\n",
       "  </tbody>\n",
       "</table>\n",
       "<p>1282 rows × 2 columns</p>\n",
       "</div>"
      ],
      "text/plain": [
       "         letno  karierno\n",
       "0     0.807018  0.695518\n",
       "1     0.707692  0.656733\n",
       "2     0.706897  0.711785\n",
       "3     0.745763  0.660643\n",
       "4     0.677419  0.597973\n",
       "...        ...       ...\n",
       "1277  0.222222  0.000000\n",
       "1278  0.000000  0.000000\n",
       "1279  0.272727  0.250000\n",
       "1280       NaN  0.000000\n",
       "1281       NaN  0.272727\n",
       "\n",
       "[1282 rows x 2 columns]"
      ]
     },
     "execution_count": 171,
     "metadata": {},
     "output_type": "execute_result"
    }
   ],
   "source": [
    "nov_slovar = {'letno' : letno['letni delež zmag'], 'karierno' : karierno['karierni delež zmag']}\n",
    "\n",
    "pd.DataFrame(nov_slovar)#.plot(figsize=(20, 2.5))"
   ]
  },
  {
   "cell_type": "code",
   "execution_count": null,
   "metadata": {},
   "outputs": [],
   "source": []
  }
 ],
 "metadata": {
  "kernelspec": {
   "display_name": "Python 3",
   "language": "python",
   "name": "python3"
  },
  "language_info": {
   "codemirror_mode": {
    "name": "ipython",
    "version": 3
   },
   "file_extension": ".py",
   "mimetype": "text/x-python",
   "name": "python",
   "nbconvert_exporter": "python",
   "pygments_lexer": "ipython3",
   "version": "3.6.4"
  }
 },
 "nbformat": 4,
 "nbformat_minor": 2
}
